{
  "metadata": {
    "language_info": {
      "codemirror_mode": {
        "name": "python",
        "version": 3
      },
      "file_extension": ".py",
      "mimetype": "text/x-python",
      "name": "python",
      "nbconvert_exporter": "python",
      "pygments_lexer": "ipython3",
      "version": "3.8"
    },
    "kernelspec": {
      "name": "python",
      "display_name": "Python (Pyodide)",
      "language": "python"
    }
  },
  "nbformat_minor": 4,
  "nbformat": 4,
  "cells": [
    {
      "cell_type": "code",
      "source": "import pandas as pd",
      "metadata": {
        "trusted": true
      },
      "execution_count": 1,
      "outputs": []
    },
    {
      "cell_type": "code",
      "source": "# How to Create a Pandas DataFrame\n# From a Dictionary\ndata = {\n    'Name': ['joy', 'toy', 'roy'],\n    'Age': [25, 30, 22],\n    'Country': ['USA', 'Canada', 'UK']\n}\ndf = pd.DataFrame(data)\nprint(df)",
      "metadata": {
        "trusted": true
      },
      "execution_count": 3,
      "outputs": [
        {
          "name": "stdout",
          "text": "  Name  Age Country\n0  joy   25     USA\n1  toy   30  Canada\n2  roy   22      UK\n",
          "output_type": "stream"
        }
      ]
    },
    {
      "cell_type": "code",
      "source": "# From a List of Dictionaries\ndata = [\n    {'Name': 'joy', 'Age': 25, 'Country': 'USA'},\n    {'Name': 'toy', 'Age': 30, 'Country': 'Canada'},\n    {'Name': 'roy', 'Age': 22, 'Country': 'UK'}\n]\ndf = pd.DataFrame(data)\nprint(df)",
      "metadata": {
        "trusted": true
      },
      "execution_count": 4,
      "outputs": [
        {
          "name": "stdout",
          "text": "  Name  Age Country\n0  joy   25     USA\n1  toy   30  Canada\n2  roy   22      UK\n",
          "output_type": "stream"
        }
      ]
    },
    {
      "cell_type": "code",
      "source": "# From a NumPy Array\nimport numpy as np\ndata = np.array([\n    ['joy', 25, 'USA'],\n    ['toy', 30, 'Canada'],\n    ['roy', 22, 'UK']\n])\ndf = pd.DataFrame(data, columns=['Student_Name', 'Age', 'Country'])\nprint(df)",
      "metadata": {
        "trusted": true
      },
      "execution_count": 6,
      "outputs": [
        {
          "name": "stdout",
          "text": "  Student_Name Age Country\n0          joy  25     USA\n1          toy  30  Canada\n2          roy  22      UK\n",
          "output_type": "stream"
        }
      ]
    },
    {
      "cell_type": "code",
      "source": "# From an Existing DataFrame: \n# Assuming 'df' is an existing DataFrame\nnew_df = df[['Student_Name', 'Age','Country']]  # Creating a new DataFrame with only 'Name' and 'Age' columns\nprint(new_df)",
      "metadata": {
        "trusted": true
      },
      "execution_count": 9,
      "outputs": [
        {
          "name": "stdout",
          "text": "  Student_Name Age Country\n0          joy  25     USA\n1          toy  30  Canada\n2          roy  22      UK\n",
          "output_type": "stream"
        }
      ]
    },
    {
      "cell_type": "code",
      "source": "# How to Select an Index or Column from a Pandas DataFrame\ndata = {\n    'Name': ['joy', 'toy', 'roy'],\n    'Age': [25, 30, 22],\n    'Country': ['USA', 'Canada', 'UK']\n}\n\ndf = pd.DataFrame(data)\n\n# Select a single column\nname_column = df['Name']\nprint(name_column)\n\n# Select multiple columns\nname_age_columns = df[['Name', 'Age']]\nprint(name_age_columns)",
      "metadata": {
        "trusted": true
      },
      "execution_count": 10,
      "outputs": [
        {
          "name": "stdout",
          "text": "0    joy\n1    toy\n2    roy\nName: Name, dtype: object\n  Name  Age\n0  joy   25\n1  toy   30\n2  roy   22\n",
          "output_type": "stream"
        }
      ]
    },
    {
      "cell_type": "code",
      "source": "# Selecting Rows by Index:\n# Using .loc to select rows by label\nfirst_row = df.loc[0]\nprint(first_row)\n\n# Using .iloc to select rows by integer index\nsecond_row = df.iloc[1]\nprint(second_row)",
      "metadata": {
        "trusted": true
      },
      "execution_count": 11,
      "outputs": [
        {
          "name": "stdout",
          "text": "Name       joy\nAge         25\nCountry    USA\nName: 0, dtype: object\nName          toy\nAge            30\nCountry    Canada\nName: 1, dtype: object\n",
          "output_type": "stream"
        }
      ]
    },
    {
      "cell_type": "code",
      "source": "# Selecting Rows and Columns Simultaneously:\n# Using .loc to select specific rows and columns by label\nspecific_row_col = df.loc[1, 'Name']\nprint(specific_row_col)\n\n# Using .iloc to select specific rows and columns by integer index\nspecific_row_col_iloc = df.iloc[0, 1]\nprint(specific_row_col_iloc)",
      "metadata": {
        "trusted": true
      },
      "execution_count": 12,
      "outputs": [
        {
          "name": "stdout",
          "text": "toy\n25\n",
          "output_type": "stream"
        }
      ]
    },
    {
      "cell_type": "code",
      "source": "# Setting Index:\ndf_with_index = df.set_index('Name')\nprint(df_with_index)",
      "metadata": {
        "trusted": true
      },
      "execution_count": 13,
      "outputs": [
        {
          "name": "stdout",
          "text": "      Age Country\nName             \njoy    25     USA\ntoy    30  Canada\nroy    22      UK\n",
          "output_type": "stream"
        }
      ]
    },
    {
      "cell_type": "code",
      "source": "# Resetting Index:\ndf_reset = df_with_index.reset_index()\nprint(df_reset)",
      "metadata": {
        "trusted": true
      },
      "execution_count": 14,
      "outputs": [
        {
          "name": "stdout",
          "text": "  Name  Age Country\n0  joy   25     USA\n1  toy   30  Canada\n2  roy   22      UK\n",
          "output_type": "stream"
        }
      ]
    },
    {
      "cell_type": "code",
      "source": "# How to Add an Index, Row or Column to a Pandas DataFrame\n\n# Creating a DataFrame\ndata = {\n    'course': ['Java', 'Php', 'Python'],\n    'Topic': ['variable','Datatype','Keyword'],\n    'Unit': [102,304,450]\n}\nindex_data = ['A','B','C']\ndf = pd.DataFrame(data)\nprint(df)",
      "metadata": {
        "trusted": true
      },
      "execution_count": 18,
      "outputs": [
        {
          "name": "stdout",
          "text": "   course     Topic  Unit\n0    Java  variable   102\n1     Php  Datatype   304\n2  Python   Keyword   450\n",
          "output_type": "stream"
        }
      ]
    },
    {
      "cell_type": "code",
      "source": "# Adding an Index\ndf_with_index = df.set_index('Unit')\nprint(\"DataFrame with Custom Index:\")\nprint(df_with_index)",
      "metadata": {
        "trusted": true
      },
      "execution_count": 22,
      "outputs": [
        {
          "name": "stdout",
          "text": "DataFrame with Custom Index:\n      course     Topic\nUnit                  \n102     Java  variable\n304      Php  Datatype\n450   Python   Keyword\n",
          "output_type": "stream"
        }
      ]
    },
    {
      "cell_type": "code",
      "source": "# change index \ndf = pd.DataFrame(data,index=[index_data])\nprint(df)",
      "metadata": {
        "trusted": true
      },
      "execution_count": 24,
      "outputs": [
        {
          "name": "stdout",
          "text": "   course     Topic  Unit\nA    Java  variable   102\nB     Php  Datatype   304\nC  Python   Keyword   450\n",
          "output_type": "stream"
        }
      ]
    },
    {
      "cell_type": "code",
      "source": "# Adding a Column\ndf['fees'] = [1200, 1700, 1900]\nprint(\"\\nDataFrame with New Column:\")\nprint(df)",
      "metadata": {
        "trusted": true
      },
      "execution_count": 31,
      "outputs": [
        {
          "name": "stdout",
          "text": "\nDataFrame with New Column:\n   course     Topic  Unit  fees\nA    Java  variable   102  1200\nB     Php  Datatype   304  1700\nC  Python   Keyword   450  1900\n",
          "output_type": "stream"
        }
      ]
    },
    {
      "cell_type": "code",
      "source": "# Adding Rows to a DataFrame\n# Displaying the original DataFrame\nprint(\"Original DataFrame:\")\nprint(df)\n\n# Adding a New Row\nnew_row = {'course': 'c++', 'Topic': 'Inheritance', 'Unit':205,'fees':9630}\ndf = df.append(new_row, ignore_index=True)\n\n# Displaying the DataFrame after adding the new row\nprint(\"\\nDataFrame after Adding New Row:\")\nprint(df)",
      "metadata": {
        "trusted": true
      },
      "execution_count": 36,
      "outputs": [
        {
          "name": "stdout",
          "text": "Original DataFrame:\n   course        Topic  Unit  fees\n0    Java     variable   102  1200\n1     Php     Datatype   304  1700\n2  Python      Keyword   450  1900\n3     c++  Inheritance   205  9630\n4     c++  Inheritance   205  9630\n5     c++  Inheritance   205  9630\n",
          "output_type": "stream"
        },
        {
          "name": "stderr",
          "text": "<ipython-input-36-bd5418cf7cb3>:8: FutureWarning: The frame.append method is deprecated and will be removed from pandas in a future version. Use pandas.concat instead.\n  df = df.append(new_row, ignore_index=True)\n",
          "output_type": "stream"
        },
        {
          "name": "stdout",
          "text": "\nDataFrame after Adding New Row:\n   course        Topic  Unit  fees\n0    Java     variable   102  1200\n1     Php     Datatype   304  1700\n2  Python      Keyword   450  1900\n3     c++  Inheritance   205  9630\n4     c++  Inheritance   205  9630\n5     c++  Inheritance   205  9630\n6     c++  Inheritance   205  9630\n",
          "output_type": "stream"
        }
      ]
    }
  ]
}